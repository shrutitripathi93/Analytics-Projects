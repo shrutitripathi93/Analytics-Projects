{
 "cells": [
  {
   "cell_type": "code",
   "execution_count": 1,
   "id": "12637244-a05d-4bf1-914e-a816ba2be2d6",
   "metadata": {},
   "outputs": [],
   "source": [
    "from mlutils import dataset\n",
    "from mlutils import connector\n"
   ]
  },
  {
   "cell_type": "code",
   "execution_count": 2,
   "id": "770b1346-f8bd-4b8e-9426-a99cf36ac237",
   "metadata": {},
   "outputs": [
    {
     "name": "stdout",
     "output_type": "stream",
     "text": [
      "drop table wmt-tns-analytics-prod.TnS_adhoc.MP_Sellers\n",
      "drop mp seller table query executing\n",
      "drop mp seller table query executed\n"
     ]
    }
   ],
   "source": [
    "drop_mp_seller_table_df = \"drop table wmt-tns-analytics-prod.TnS_adhoc.MP_Sellers\"\n",
    "print(drop_mp_seller_table_df)\n",
    "\n",
    "print(\"drop mp seller table query executing\")\n",
    "\n",
    "drop_mp_seller_table_df = dataset.load(name=\"bq_connection\", query=drop_mp_seller_table_df)\n",
    "\n",
    "print(\"drop mp seller table query executed\")"
   ]
  },
  {
   "cell_type": "code",
   "execution_count": 3,
   "id": "e4f23d89-8c60-49a4-8bc3-12c978ac32d9",
   "metadata": {},
   "outputs": [],
   "source": [
    "create_mp_seller_table_df =  \"create table `wmt-tns-analytics-prod.TnS_adhoc.MP_Sellers` as \\\n",
    "( \\\n",
    "  select distinct org._id as Ro_id, seller._id as seller_id, org.name, org.statusInfo_status as org_status, org.statusInfo_comments, seller.countryOfIncorporation, seller.legalName, seller.taxClassification, seller.orgStatus as seller_status, seller.partnerId, seller.orgId, brand.name as brand_name, \\\n",
    "  (case when (seller.partnerId IS NULL) then 'Non-MP Seller' \\\n",
    "      when ( \\\n",
    "                upper(seller.countryOfIncorporation) = 'US' \\\n",
    "                or upper(seller.countryOfIncorporation) = 'UNITED STATES' \\\n",
    "                or upper(seller.countryOfIncorporation) = 'USA' \\\n",
    "                or (seller.taxClassification = '' and seller.countryOfIncorporation = '') \\\n",
    "                or (seller.taxClassification is null and seller.countryOfIncorporation is null) \\\n",
    "                or (seller.taxClassification is null or seller.countryOfIncorporation is null) \\\n",
    "                or upper(seller.taxClassification) = 'W9' \\\n",
    "           ) then 'Domestic MP Seller' \\\n",
    "      Else 'International MP Seller' End) as population, \\\n",
    "partnership.account_name, \\\n",
    "partnership.recordtype_name, \\\n",
    "opportunity.gmv, \\\n",
    "opportunity.owner_name, \\\n",
    "opportunity.category_lvl_0, \\\n",
    "opportunity.category_lvl_1, \\\n",
    "sum(sales.gmv_amt) as net_gmv, \\\n",
    "sum(CASE WHEN sales.wfs_ind = 1 THEN sales.gmv_amt ELSE NULL END) as net_wfs_gmv \\\n",
    "from \\\n",
    "`wmt-ww-gg-prod.ww_gg_gec_tns_bp_dl_secure.org-info` org \\\n",
    "left join \\\n",
    "`wmt-ww-gg-prod.ww_gg_gec_tns_bp_dl_secure.sellers-info-us` seller \\\n",
    "on lower(org.sellerOrgId) = lower(seller.orgId) \\\n",
    "left join `wmt-ww-gg-prod.ww_gg_gec_tns_sf_dl_secure.gg_tns_partnership` partnership \\\n",
    "on lower(seller.partnerId) = lower(partnership.partner_id_formula) \\\n",
    "left join \\\n",
    " `wmt-ww-gg-prod.ww_gg_gec_tns_sf_dl_secure.gg_tns_opportunity` opportunity \\\n",
    " on partnership.account = opportunity.accountid \\\n",
    " left join `wmt-edw-prod.WW_CREW_DL_RPT_VM.CNSLD_EVENT_BASED_SALES` sales \\\n",
    " on partnership.partner_id_formula = sales.prtnr_org_cd \\\n",
    "left join `wmt-ww-gg-prod.ww_gg_gec_tns_bp_dl_secure.brand-info` brand \\\n",
    "on lower(seller.orgId) = lower(brand.usSellerOrgId) \\\n",
    "where lower(org.statusInfo_status) like '%accepted%' and lower(brand.statusInfo_status) like '%accepted%' and lower(seller.orgStatus) = 'active' \\\n",
    "group by 1,2,3,4,5,6,7,8,9,10,11,12,13,14,15,16,17,18,19)\""
   ]
  },
  {
   "cell_type": "code",
   "execution_count": 4,
   "id": "ed3c9eeb-ffef-422d-b630-3eaf711a63c6",
   "metadata": {},
   "outputs": [
    {
     "name": "stdout",
     "output_type": "stream",
     "text": [
      "create table `wmt-tns-analytics-prod.TnS_adhoc.MP_Sellers` as (   select distinct org._id as Ro_id, seller._id as seller_id, org.name, org.statusInfo_status as org_status, org.statusInfo_comments, seller.countryOfIncorporation, seller.legalName, seller.taxClassification, seller.orgStatus as seller_status, seller.partnerId, seller.orgId, brand.name as brand_name,   (case when (seller.partnerId IS NULL) then 'Non-MP Seller'       when (                 upper(seller.countryOfIncorporation) = 'US'                 or upper(seller.countryOfIncorporation) = 'UNITED STATES'                 or upper(seller.countryOfIncorporation) = 'USA'                 or (seller.taxClassification = '' and seller.countryOfIncorporation = '')                 or (seller.taxClassification is null and seller.countryOfIncorporation is null)                 or (seller.taxClassification is null or seller.countryOfIncorporation is null)                 or upper(seller.taxClassification) = 'W9'            ) then 'Domestic MP Seller'       Else 'International MP Seller' End) as population, partnership.account_name, partnership.recordtype_name, opportunity.gmv, opportunity.owner_name, opportunity.category_lvl_0, opportunity.category_lvl_1, sum(sales.gmv_amt) as net_gmv, sum(CASE WHEN sales.wfs_ind = 1 THEN sales.gmv_amt ELSE NULL END) as net_wfs_gmv from `wmt-ww-gg-prod.ww_gg_gec_tns_bp_dl_secure.org-info` org left join `wmt-ww-gg-prod.ww_gg_gec_tns_bp_dl_secure.sellers-info-us` seller on lower(org.sellerOrgId) = lower(seller.orgId) left join `wmt-ww-gg-prod.ww_gg_gec_tns_sf_dl_secure.gg_tns_partnership` partnership on lower(seller.partnerId) = lower(partnership.partner_id_formula) left join  `wmt-ww-gg-prod.ww_gg_gec_tns_sf_dl_secure.gg_tns_opportunity` opportunity  on partnership.account = opportunity.accountid  left join `wmt-edw-prod.WW_CREW_DL_RPT_VM.CNSLD_EVENT_BASED_SALES` sales  on partnership.partner_id_formula = sales.prtnr_org_cd left join `wmt-ww-gg-prod.ww_gg_gec_tns_bp_dl_secure.brand-info` brand on lower(seller.orgId) = lower(brand.usSellerOrgId) where lower(org.statusInfo_status) like '%accepted%' and lower(brand.statusInfo_status) like '%accepted%' and lower(seller.orgStatus) = 'active' group by 1,2,3,4,5,6,7,8,9,10,11,12,13,14,15,16,17,18,19)\n",
      "create mp seller table query executing\n"
     ]
    }
   ],
   "source": [
    "print(create_mp_seller_table_df)\n",
    "\n",
    "print(\"create mp seller table query executing\")\n",
    "\n",
    "create_mp_seller_table_df = dataset.load(name=\"bq_connection\", query=create_mp_seller_table_df)"
   ]
  },
  {
   "cell_type": "code",
   "execution_count": 5,
   "id": "2d39d340-d5be-4a92-a037-cb33ac0d87e2",
   "metadata": {},
   "outputs": [
    {
     "name": "stdout",
     "output_type": "stream",
     "text": [
      "drop table wmt-tns-analytics-prod.TnS_adhoc.MP_Sellers_New\n",
      "drop mp seller new table query executing\n",
      "drop mp seller table query executed\n"
     ]
    }
   ],
   "source": [
    "drop_mp_seller_new_table_df = \"drop table wmt-tns-analytics-prod.TnS_adhoc.MP_Sellers_New\"\n",
    "print(drop_mp_seller_new_table_df)\n",
    "\n",
    "print(\"drop mp seller new table query executing\")\n",
    "\n",
    "drop_mp_seller_new_table_df = dataset.load(name=\"bq_connection\", query=drop_mp_seller_new_table_df)\n",
    "\n",
    "print(\"drop mp seller table query executed\")"
   ]
  },
  {
   "cell_type": "code",
   "execution_count": 6,
   "id": "c101145a-7bd9-44ec-9d9d-a010447809c6",
   "metadata": {},
   "outputs": [],
   "source": [
    "create_mp_seller_new_table_df =  \"create table `wmt-tns-analytics-prod.TnS_adhoc.MP_Sellers_New` as \\\n",
    "( \\\n",
    "  select distinct org._id as Ro_id, seller._id as seller_id, org.name, org.statusInfo_status as org_status, org.statusInfo_comments, seller.countryOfIncorporation, seller.legalName, seller.taxClassification, seller.orgStatus as seller_status, seller.partnerId, seller.orgId, brand.name as brand_name, \\\n",
    "  (case when (seller.partnerId IS NULL) then 'Non-MP Seller' \\\n",
    "      when (upper(seller.taxClassification) = 'W9' \\\n",
    "                or upper(seller.countryOfIncorporation) = 'US' \\\n",
    "                or upper(seller.countryOfIncorporation) = 'UNITED STATES' \\\n",
    "                 or upper(seller.countryOfIncorporation) = 'USA' \\\n",
    "                or (seller.taxClassification = '' and seller.countryOfIncorporation = '') \\\n",
    "                or (seller.taxClassification is null and seller.countryOfIncorporation is null) \\\n",
    "                or (seller.taxClassification is null or seller.countryOfIncorporation is null) \\\n",
    "           ) then 'Domestic MP Seller' \\\n",
    "      Else 'International MP Seller' End) as population, \\\n",
    "account.name as account_name, \\\n",
    "account.recordtype_name, \\\n",
    "opportunity.owner_name, \\\n",
    "opportunity.gmv, \\\n",
    "opportunity.category_lvl_0, \\\n",
    "opportunity.category_lvl_1,  \\\n",
    "sum(sales.gmv_amt) as net_gmv, \\\n",
    "sum(CASE WHEN sales.wfs_ind = 1 THEN sales.gmv_amt ELSE NULL END) as net_wfs_gmv \\\n",
    "from \\\n",
    "`wmt-ww-gg-prod.ww_gg_gec_tns_bp_dl_secure.org-info` org \\\n",
    "left join \\\n",
    "`wmt-ww-gg-prod.ww_gg_gec_tns_bp_dl_secure.sellers-info-us` seller \\\n",
    "on lower(org.sellerOrgId) = lower(seller.orgId) \\\n",
    "left join `wmt-ww-gg-prod.ww_gg_gec_tns_sf_dl_secure.gg_tns_account_nm` account \\\n",
    "on lower(seller.partnerId) = lower(account.partner_id) \\\n",
    "left join \\\n",
    " `wmt-ww-gg-prod.ww_gg_gec_tns_sf_dl_secure.gg_tns_opportunity` opportunity \\\n",
    " on account.id = opportunity.accountid \\\n",
    " left join `wmt-edw-prod.WW_CREW_DL_RPT_VM.CNSLD_EVENT_BASED_SALES` sales \\\n",
    " on account.partner_id = sales.prtnr_org_cd \\\n",
    "left join `wmt-ww-gg-prod.ww_gg_gec_tns_bp_dl_secure.brand-info` brand \\\n",
    "on lower(seller.orgId) = lower(brand.usSellerOrgId) \\\n",
    "where lower(org.statusInfo_status) like '%accepted%' and lower(brand.statusInfo_status) like '%accepted%' and lower(seller.orgStatus) = 'active' \\\n",
    "group by 1,2,3,4,5,6,7,8,9,10,11,12,13,14,15,16,17,18,19)\""
   ]
  },
  {
   "cell_type": "code",
   "execution_count": 8,
   "id": "4e6c5c0f-d581-416c-97a0-3ddacdc2f5b3",
   "metadata": {},
   "outputs": [
    {
     "name": "stdout",
     "output_type": "stream",
     "text": [
      "create table `wmt-tns-analytics-prod.TnS_adhoc.MP_Sellers_New` as (   select distinct org._id as Ro_id, seller._id as seller_id, org.name, org.statusInfo_status as org_status, org.statusInfo_comments, seller.countryOfIncorporation, seller.legalName, seller.taxClassification, seller.orgStatus as seller_status, seller.partnerId, seller.orgId, brand.name as brand_name,   (case when (seller.partnerId IS NULL) then 'Non-MP Seller'       when (upper(seller.taxClassification) = 'W9'                 or upper(seller.countryOfIncorporation) = 'US'                 or upper(seller.countryOfIncorporation) = 'UNITED STATES'                  or upper(seller.countryOfIncorporation) = 'USA'                 or (seller.taxClassification = '' and seller.countryOfIncorporation = '')                 or (seller.taxClassification is null and seller.countryOfIncorporation is null)                 or (seller.taxClassification is null or seller.countryOfIncorporation is null)            ) then 'Domestic MP Seller'       Else 'International MP Seller' End) as population, account.name as account_name, account.recordtype_name, opportunity.owner_name, opportunity.gmv, opportunity.category_lvl_0, opportunity.category_lvl_1,  sum(sales.gmv_amt) as net_gmv, sum(CASE WHEN sales.wfs_ind = 1 THEN sales.gmv_amt ELSE NULL END) as net_wfs_gmv from `wmt-ww-gg-prod.ww_gg_gec_tns_bp_dl_secure.org-info` org left join `wmt-ww-gg-prod.ww_gg_gec_tns_bp_dl_secure.sellers-info-us` seller on lower(org.sellerOrgId) = lower(seller.orgId) left join `wmt-ww-gg-prod.ww_gg_gec_tns_sf_dl_secure.gg_tns_account_nm` account on lower(seller.partnerId) = lower(account.partner_id) left join  `wmt-ww-gg-prod.ww_gg_gec_tns_sf_dl_secure.gg_tns_opportunity` opportunity  on account.id = opportunity.accountid  left join `wmt-edw-prod.WW_CREW_DL_RPT_VM.CNSLD_EVENT_BASED_SALES` sales  on account.partner_id = sales.prtnr_org_cd left join `wmt-ww-gg-prod.ww_gg_gec_tns_bp_dl_secure.brand-info` brand on lower(seller.orgId) = lower(brand.usSellerOrgId) where lower(org.statusInfo_status) like '%accepted%' and lower(brand.statusInfo_status) like '%accepted%' and lower(seller.orgStatus) = 'active' group by 1,2,3,4,5,6,7,8,9,10,11,12,13,14,15,16,17,18,19)\n",
      "create new mp seller with account table query executing\n"
     ]
    },
    {
     "ename": "Conflict",
     "evalue": "409 Already Exists: Table wmt-tns-analytics-prod:TnS_adhoc.MP_Sellers_New\n\nLocation: US\nJob ID: 3553c1a7-47d8-42df-9285-03f21856b201\n",
     "output_type": "error",
     "traceback": [
      "\u001b[0;31m---------------------------------------------------------------------------\u001b[0m",
      "\u001b[0;31mConflict\u001b[0m                                  Traceback (most recent call last)",
      "\u001b[0;32m/tmp/ipykernel_3631/1118185437.py\u001b[0m in \u001b[0;36m<module>\u001b[0;34m\u001b[0m\n\u001b[1;32m      3\u001b[0m \u001b[0mprint\u001b[0m\u001b[0;34m(\u001b[0m\u001b[0;34m\"create new mp seller with account table query executing\"\u001b[0m\u001b[0;34m)\u001b[0m\u001b[0;34m\u001b[0m\u001b[0m\n\u001b[1;32m      4\u001b[0m \u001b[0;34m\u001b[0m\u001b[0m\n\u001b[0;32m----> 5\u001b[0;31m \u001b[0mcreate_mp_seller_new_table_df\u001b[0m \u001b[0;34m=\u001b[0m \u001b[0mdataset\u001b[0m\u001b[0;34m.\u001b[0m\u001b[0mload\u001b[0m\u001b[0;34m(\u001b[0m\u001b[0mname\u001b[0m\u001b[0;34m=\u001b[0m\u001b[0;34m\"bq_connection\"\u001b[0m\u001b[0;34m,\u001b[0m \u001b[0mquery\u001b[0m\u001b[0;34m=\u001b[0m\u001b[0mcreate_mp_seller_new_table_df\u001b[0m\u001b[0;34m)\u001b[0m\u001b[0;34m\u001b[0m\u001b[0m\n\u001b[0m",
      "\u001b[0;32m/libraries/Default_env_43551/lib/python3.7/site-packages/mlutils/dataset.py\u001b[0m in \u001b[0;36mload\u001b[0;34m(id, name, path, query, data_type, init_cmds, sep, container, read_params, connect_params, table_name, db_name, mode)\u001b[0m\n\u001b[1;32m     21\u001b[0m     \"\"\"\n\u001b[1;32m     22\u001b[0m     return datasets.loadData(id, name, path, query, data_type, init_cmds, sep, container,\n\u001b[0;32m---> 23\u001b[0;31m                              read_params, connect_params, table_name, db_name,mode)\n\u001b[0m\u001b[1;32m     24\u001b[0m \u001b[0;34m\u001b[0m\u001b[0m\n\u001b[1;32m     25\u001b[0m \u001b[0;34m\u001b[0m\u001b[0m\n",
      "\u001b[0;32m/libraries/Default_env_43551/lib/python3.7/site-packages/pydatasets/datasets.py\u001b[0m in \u001b[0;36mloadData\u001b[0;34m(id, name, path, query, dataType, init_cmds, sep, container, read_params, connect_params, table_name, db_name, mode)\u001b[0m\n\u001b[1;32m    607\u001b[0m                                       \u001b[0mcontainer\u001b[0m\u001b[0;34m=\u001b[0m\u001b[0mcontainer\u001b[0m\u001b[0;34m,\u001b[0m \u001b[0mencryption\u001b[0m\u001b[0;34m=\u001b[0m\u001b[0;32mFalse\u001b[0m\u001b[0;34m,\u001b[0m\u001b[0;34m\u001b[0m\u001b[0m\n\u001b[1;32m    608\u001b[0m                                       \u001b[0mread_params\u001b[0m\u001b[0;34m=\u001b[0m\u001b[0mread_params\u001b[0m\u001b[0;34m,\u001b[0m \u001b[0mconnect_params\u001b[0m\u001b[0;34m=\u001b[0m\u001b[0mconnect_params\u001b[0m\u001b[0;34m,\u001b[0m\u001b[0;34m\u001b[0m\u001b[0m\n\u001b[0;32m--> 609\u001b[0;31m                                       table_name=table_name, db_name=db_name,mode=mode)\n\u001b[0m\u001b[1;32m    610\u001b[0m     \u001b[0;32melse\u001b[0m\u001b[0;34m:\u001b[0m\u001b[0;34m\u001b[0m\u001b[0m\n\u001b[1;32m    611\u001b[0m         \u001b[0;31m#its a dataset id or name\u001b[0m\u001b[0;34m\u001b[0m\u001b[0;34m\u001b[0m\u001b[0m\n",
      "\u001b[0;32m/libraries/Default_env_43551/lib/python3.7/site-packages/pydatasets/connectors/connector.py\u001b[0m in \u001b[0;36mretrieveData\u001b[0;34m(self, queryOrPath, dataType, container, init_cmds, sep, encryption, read_params, connect_params, table_name, db_name, mode)\u001b[0m\n\u001b[1;32m    740\u001b[0m             \u001b[0;32mreturn\u001b[0m \u001b[0mclient\u001b[0m\u001b[0;34m.\u001b[0m\u001b[0mquery\u001b[0m\u001b[0;34m(\u001b[0m\u001b[0mqueryOrPath\u001b[0m\u001b[0;34m,\u001b[0m \u001b[0;34m**\u001b[0m\u001b[0mread_params\u001b[0m\u001b[0;34m)\u001b[0m\u001b[0;34m.\u001b[0m\u001b[0mto_dataframe\u001b[0m\u001b[0;34m(\u001b[0m\u001b[0;34m)\u001b[0m\u001b[0;34m\u001b[0m\u001b[0m\n\u001b[1;32m    741\u001b[0m         \u001b[0;32melse\u001b[0m\u001b[0;34m:\u001b[0m\u001b[0;34m\u001b[0m\u001b[0m\n\u001b[0;32m--> 742\u001b[0;31m             \u001b[0;32mreturn\u001b[0m \u001b[0mclient\u001b[0m\u001b[0;34m.\u001b[0m\u001b[0mquery\u001b[0m\u001b[0;34m(\u001b[0m\u001b[0mqueryOrPath\u001b[0m\u001b[0;34m)\u001b[0m\u001b[0;34m.\u001b[0m\u001b[0mto_dataframe\u001b[0m\u001b[0;34m(\u001b[0m\u001b[0;34m)\u001b[0m\u001b[0;34m\u001b[0m\u001b[0m\n\u001b[0m\u001b[1;32m    743\u001b[0m \u001b[0;34m\u001b[0m\u001b[0m\n\u001b[1;32m    744\u001b[0m     def storeData(self, df, dformat, pathOrSchema=None, container=None, encryption=True,\n",
      "\u001b[0;32m/libraries/Default_env_43551/lib/python3.7/site-packages/google/cloud/bigquery/job/query.py\u001b[0m in \u001b[0;36mto_dataframe\u001b[0;34m(self, bqstorage_client, dtypes, progress_bar_type, create_bqstorage_client, date_as_object, max_results, geography_as_object)\u001b[0m\n\u001b[1;32m   1645\u001b[0m                 \u001b[0;34m:\u001b[0m\u001b[0mmod\u001b[0m\u001b[0;34m:\u001b[0m\u001b[0;31m`\u001b[0m\u001b[0mshapely\u001b[0m\u001b[0;31m`\u001b[0m \u001b[0mlibrary\u001b[0m \u001b[0mcannot\u001b[0m \u001b[0mbe\u001b[0m \u001b[0mimported\u001b[0m\u001b[0;34m.\u001b[0m\u001b[0;34m\u001b[0m\u001b[0m\n\u001b[1;32m   1646\u001b[0m         \"\"\"\n\u001b[0;32m-> 1647\u001b[0;31m         \u001b[0mquery_result\u001b[0m \u001b[0;34m=\u001b[0m \u001b[0mwait_for_query\u001b[0m\u001b[0;34m(\u001b[0m\u001b[0mself\u001b[0m\u001b[0;34m,\u001b[0m \u001b[0mprogress_bar_type\u001b[0m\u001b[0;34m,\u001b[0m \u001b[0mmax_results\u001b[0m\u001b[0;34m=\u001b[0m\u001b[0mmax_results\u001b[0m\u001b[0;34m)\u001b[0m\u001b[0;34m\u001b[0m\u001b[0m\n\u001b[0m\u001b[1;32m   1648\u001b[0m         return query_result.to_dataframe(\n\u001b[1;32m   1649\u001b[0m             \u001b[0mbqstorage_client\u001b[0m\u001b[0;34m=\u001b[0m\u001b[0mbqstorage_client\u001b[0m\u001b[0;34m,\u001b[0m\u001b[0;34m\u001b[0m\u001b[0m\n",
      "\u001b[0;32m/libraries/Default_env_43551/lib/python3.7/site-packages/google/cloud/bigquery/_tqdm_helpers.py\u001b[0m in \u001b[0;36mwait_for_query\u001b[0;34m(query_job, progress_bar_type, max_results)\u001b[0m\n\u001b[1;32m     86\u001b[0m     )\n\u001b[1;32m     87\u001b[0m     \u001b[0;32mif\u001b[0m \u001b[0mprogress_bar\u001b[0m \u001b[0;32mis\u001b[0m \u001b[0;32mNone\u001b[0m\u001b[0;34m:\u001b[0m\u001b[0;34m\u001b[0m\u001b[0m\n\u001b[0;32m---> 88\u001b[0;31m         \u001b[0;32mreturn\u001b[0m \u001b[0mquery_job\u001b[0m\u001b[0;34m.\u001b[0m\u001b[0mresult\u001b[0m\u001b[0;34m(\u001b[0m\u001b[0mmax_results\u001b[0m\u001b[0;34m=\u001b[0m\u001b[0mmax_results\u001b[0m\u001b[0;34m)\u001b[0m\u001b[0;34m\u001b[0m\u001b[0m\n\u001b[0m\u001b[1;32m     89\u001b[0m \u001b[0;34m\u001b[0m\u001b[0m\n\u001b[1;32m     90\u001b[0m     \u001b[0mi\u001b[0m \u001b[0;34m=\u001b[0m \u001b[0;36m0\u001b[0m\u001b[0;34m\u001b[0m\u001b[0m\n",
      "\u001b[0;32m/libraries/Default_env_43551/lib/python3.7/site-packages/google/cloud/bigquery/job/query.py\u001b[0m in \u001b[0;36mresult\u001b[0;34m(self, page_size, max_results, retry, timeout, start_index, job_retry)\u001b[0m\n\u001b[1;32m   1449\u001b[0m                 \u001b[0mdo_get_result\u001b[0m \u001b[0;34m=\u001b[0m \u001b[0mjob_retry\u001b[0m\u001b[0;34m(\u001b[0m\u001b[0mdo_get_result\u001b[0m\u001b[0;34m)\u001b[0m\u001b[0;34m\u001b[0m\u001b[0m\n\u001b[1;32m   1450\u001b[0m \u001b[0;34m\u001b[0m\u001b[0m\n\u001b[0;32m-> 1451\u001b[0;31m             \u001b[0mdo_get_result\u001b[0m\u001b[0;34m(\u001b[0m\u001b[0;34m)\u001b[0m\u001b[0;34m\u001b[0m\u001b[0m\n\u001b[0m\u001b[1;32m   1452\u001b[0m \u001b[0;34m\u001b[0m\u001b[0m\n\u001b[1;32m   1453\u001b[0m         \u001b[0;32mexcept\u001b[0m \u001b[0mexceptions\u001b[0m\u001b[0;34m.\u001b[0m\u001b[0mGoogleAPICallError\u001b[0m \u001b[0;32mas\u001b[0m \u001b[0mexc\u001b[0m\u001b[0;34m:\u001b[0m\u001b[0;34m\u001b[0m\u001b[0m\n",
      "\u001b[0;32m/libraries/Default_env_43551/lib/python3.7/site-packages/google/api_core/retry.py\u001b[0m in \u001b[0;36mretry_wrapped_func\u001b[0;34m(*args, **kwargs)\u001b[0m\n\u001b[1;32m    286\u001b[0m                 \u001b[0msleep_generator\u001b[0m\u001b[0;34m,\u001b[0m\u001b[0;34m\u001b[0m\u001b[0m\n\u001b[1;32m    287\u001b[0m                 \u001b[0mself\u001b[0m\u001b[0;34m.\u001b[0m\u001b[0m_deadline\u001b[0m\u001b[0;34m,\u001b[0m\u001b[0;34m\u001b[0m\u001b[0m\n\u001b[0;32m--> 288\u001b[0;31m                 \u001b[0mon_error\u001b[0m\u001b[0;34m=\u001b[0m\u001b[0mon_error\u001b[0m\u001b[0;34m,\u001b[0m\u001b[0;34m\u001b[0m\u001b[0m\n\u001b[0m\u001b[1;32m    289\u001b[0m             )\n\u001b[1;32m    290\u001b[0m \u001b[0;34m\u001b[0m\u001b[0m\n",
      "\u001b[0;32m/libraries/Default_env_43551/lib/python3.7/site-packages/google/api_core/retry.py\u001b[0m in \u001b[0;36mretry_target\u001b[0;34m(target, predicate, sleep_generator, deadline, on_error)\u001b[0m\n\u001b[1;32m    188\u001b[0m     \u001b[0;32mfor\u001b[0m \u001b[0msleep\u001b[0m \u001b[0;32min\u001b[0m \u001b[0msleep_generator\u001b[0m\u001b[0;34m:\u001b[0m\u001b[0;34m\u001b[0m\u001b[0m\n\u001b[1;32m    189\u001b[0m         \u001b[0;32mtry\u001b[0m\u001b[0;34m:\u001b[0m\u001b[0;34m\u001b[0m\u001b[0m\n\u001b[0;32m--> 190\u001b[0;31m             \u001b[0;32mreturn\u001b[0m \u001b[0mtarget\u001b[0m\u001b[0;34m(\u001b[0m\u001b[0;34m)\u001b[0m\u001b[0;34m\u001b[0m\u001b[0m\n\u001b[0m\u001b[1;32m    191\u001b[0m \u001b[0;34m\u001b[0m\u001b[0m\n\u001b[1;32m    192\u001b[0m         \u001b[0;31m# pylint: disable=broad-except\u001b[0m\u001b[0;34m\u001b[0m\u001b[0;34m\u001b[0m\u001b[0m\n",
      "\u001b[0;32m/libraries/Default_env_43551/lib/python3.7/site-packages/google/cloud/bigquery/job/query.py\u001b[0m in \u001b[0;36mdo_get_result\u001b[0;34m()\u001b[0m\n\u001b[1;32m   1439\u001b[0m                     \u001b[0mself\u001b[0m\u001b[0;34m.\u001b[0m\u001b[0m_job_retry\u001b[0m \u001b[0;34m=\u001b[0m \u001b[0mjob_retry\u001b[0m\u001b[0;34m\u001b[0m\u001b[0m\n\u001b[1;32m   1440\u001b[0m \u001b[0;34m\u001b[0m\u001b[0m\n\u001b[0;32m-> 1441\u001b[0;31m                 \u001b[0msuper\u001b[0m\u001b[0;34m(\u001b[0m\u001b[0mQueryJob\u001b[0m\u001b[0;34m,\u001b[0m \u001b[0mself\u001b[0m\u001b[0;34m)\u001b[0m\u001b[0;34m.\u001b[0m\u001b[0mresult\u001b[0m\u001b[0;34m(\u001b[0m\u001b[0mretry\u001b[0m\u001b[0;34m=\u001b[0m\u001b[0mretry\u001b[0m\u001b[0;34m,\u001b[0m \u001b[0mtimeout\u001b[0m\u001b[0;34m=\u001b[0m\u001b[0mtimeout\u001b[0m\u001b[0;34m)\u001b[0m\u001b[0;34m\u001b[0m\u001b[0m\n\u001b[0m\u001b[1;32m   1442\u001b[0m \u001b[0;34m\u001b[0m\u001b[0m\n\u001b[1;32m   1443\u001b[0m                 \u001b[0;31m# Since the job could already be \"done\" (e.g. got a finished job\u001b[0m\u001b[0;34m\u001b[0m\u001b[0;34m\u001b[0m\u001b[0m\n",
      "\u001b[0;32m/libraries/Default_env_43551/lib/python3.7/site-packages/google/cloud/bigquery/job/base.py\u001b[0m in \u001b[0;36mresult\u001b[0;34m(self, retry, timeout)\u001b[0m\n\u001b[1;32m    725\u001b[0m \u001b[0;34m\u001b[0m\u001b[0m\n\u001b[1;32m    726\u001b[0m         \u001b[0mkwargs\u001b[0m \u001b[0;34m=\u001b[0m \u001b[0;34m{\u001b[0m\u001b[0;34m}\u001b[0m \u001b[0;32mif\u001b[0m \u001b[0mretry\u001b[0m \u001b[0;32mis\u001b[0m \u001b[0mDEFAULT_RETRY\u001b[0m \u001b[0;32melse\u001b[0m \u001b[0;34m{\u001b[0m\u001b[0;34m\"retry\"\u001b[0m\u001b[0;34m:\u001b[0m \u001b[0mretry\u001b[0m\u001b[0;34m}\u001b[0m\u001b[0;34m\u001b[0m\u001b[0m\n\u001b[0;32m--> 727\u001b[0;31m         \u001b[0;32mreturn\u001b[0m \u001b[0msuper\u001b[0m\u001b[0;34m(\u001b[0m\u001b[0m_AsyncJob\u001b[0m\u001b[0;34m,\u001b[0m \u001b[0mself\u001b[0m\u001b[0;34m)\u001b[0m\u001b[0;34m.\u001b[0m\u001b[0mresult\u001b[0m\u001b[0;34m(\u001b[0m\u001b[0mtimeout\u001b[0m\u001b[0;34m=\u001b[0m\u001b[0mtimeout\u001b[0m\u001b[0;34m,\u001b[0m \u001b[0;34m**\u001b[0m\u001b[0mkwargs\u001b[0m\u001b[0;34m)\u001b[0m\u001b[0;34m\u001b[0m\u001b[0m\n\u001b[0m\u001b[1;32m    728\u001b[0m \u001b[0;34m\u001b[0m\u001b[0m\n\u001b[1;32m    729\u001b[0m     \u001b[0;32mdef\u001b[0m \u001b[0mcancelled\u001b[0m\u001b[0;34m(\u001b[0m\u001b[0mself\u001b[0m\u001b[0;34m)\u001b[0m\u001b[0;34m:\u001b[0m\u001b[0;34m\u001b[0m\u001b[0m\n",
      "\u001b[0;32m/libraries/Default_env_43551/lib/python3.7/site-packages/google/api_core/future/polling.py\u001b[0m in \u001b[0;36mresult\u001b[0;34m(self, timeout, retry)\u001b[0m\n\u001b[1;32m    135\u001b[0m             \u001b[0;31m# pylint: disable=raising-bad-type\u001b[0m\u001b[0;34m\u001b[0m\u001b[0;34m\u001b[0m\u001b[0m\n\u001b[1;32m    136\u001b[0m             \u001b[0;31m# Pylint doesn't recognize that this is valid in this case.\u001b[0m\u001b[0;34m\u001b[0m\u001b[0;34m\u001b[0m\u001b[0m\n\u001b[0;32m--> 137\u001b[0;31m             \u001b[0;32mraise\u001b[0m \u001b[0mself\u001b[0m\u001b[0;34m.\u001b[0m\u001b[0m_exception\u001b[0m\u001b[0;34m\u001b[0m\u001b[0m\n\u001b[0m\u001b[1;32m    138\u001b[0m \u001b[0;34m\u001b[0m\u001b[0m\n\u001b[1;32m    139\u001b[0m         \u001b[0;32mreturn\u001b[0m \u001b[0mself\u001b[0m\u001b[0;34m.\u001b[0m\u001b[0m_result\u001b[0m\u001b[0;34m\u001b[0m\u001b[0m\n",
      "\u001b[0;31mConflict\u001b[0m: 409 Already Exists: Table wmt-tns-analytics-prod:TnS_adhoc.MP_Sellers_New\n\nLocation: US\nJob ID: 3553c1a7-47d8-42df-9285-03f21856b201\n"
     ]
    }
   ],
   "source": [
    "print(create_mp_seller_new_table_df)\n",
    "\n",
    "print(\"create new mp seller with account table query executing\")\n",
    "\n",
    "create_mp_seller_new_table_df = dataset.load(name=\"bq_connection\", query=create_mp_seller_new_table_df)"
   ]
  },
  {
   "cell_type": "code",
   "execution_count": 9,
   "id": "ad20c723-2d56-4a1d-8406-4021dc4cfe0e",
   "metadata": {},
   "outputs": [
    {
     "name": "stdout",
     "output_type": "stream",
     "text": [
      "drop table wmt-tns-analytics-prod.TnS_adhoc.MP_Sellers_New_2\n",
      "drop mp seller table query executing\n",
      "drop mp seller table query executed\n"
     ]
    }
   ],
   "source": [
    "drop_mp_seller_table_new_2_df = \"drop table wmt-tns-analytics-prod.TnS_adhoc.MP_Sellers_New_2\"\n",
    "print(drop_mp_seller_table_new_2_df)\n",
    "\n",
    "print(\"drop mp seller table query executing\")\n",
    "\n",
    "drop_mp_seller_table_new_2_df = dataset.load(name=\"bq_connection\", query=drop_mp_seller_table_new_2_df)\n",
    "\n",
    "print(\"drop mp seller table query executed\")"
   ]
  },
  {
   "cell_type": "code",
   "execution_count": 10,
   "id": "226a3786-8923-438c-ae13-641b7cf21460",
   "metadata": {},
   "outputs": [],
   "source": [
    "create_mp_seller_new_table_2_df =  \"create table `wmt-tns-analytics-prod.TnS_adhoc.MP_Sellers_New_2` as (\\\n",
    "select distinct org._id as Ro_id, seller._id as seller_id, org.name, org.statusInfo_status as org_status, org.statusInfo_comments, seller.countryOfIncorporation, seller.legalName, seller.taxClassification, seller.orgStatus as seller_status, seller.partnerId, seller.orgId, brand.name as brand_name,\\\n",
    "(case when (seller.partnerId IS NULL) then 'Non-MP Seller' \\\n",
    "      when ( \\\n",
    "                upper(seller.countryOfIncorporation) = 'US' \\\n",
    "                or upper(seller.countryOfIncorporation) = 'UNITED STATES' \\\n",
    "                or upper(seller.countryOfIncorporation) = 'USA' \\\n",
    "                or (seller.taxClassification = '' and seller.countryOfIncorporation = '') \\\n",
    "                or (seller.taxClassification is null and seller.countryOfIncorporation is null) \\\n",
    "                or (seller.taxClassification is null or seller.countryOfIncorporation is null) \\\n",
    "                or upper(seller.taxClassification) = 'W9' \\\n",
    "           ) then 'Domestic MP Seller' \\\n",
    "      Else 'International MP Seller' End) as population, \\\n",
    "partnership.account_name, \\\n",
    "partnership.recordtype_name, \\\n",
    "opportunity.gmv, \\\n",
    "opportunity.owner_name, \\\n",
    "opportunity.category_lvl_0, \\\n",
    "opportunity.category_lvl_1, \\\n",
    "sum(sales.gmv_amt) as net_gmv, \\\n",
    "sum(CASE WHEN sales.wfs_ind = 1 THEN sales.gmv_amt ELSE NULL END) as net_wfs_gmv \\\n",
    "from \\\n",
    "`wmt-ww-gg-prod.ww_gg_gec_tns_bp_dl_secure.org-info` org \\\n",
    "left join \\\n",
    "`wmt-ww-gg-prod.ww_gg_gec_tns_bp_dl_secure.sellers-info-us` seller \\\n",
    "on lower(org.sellerOrgId) = lower(seller.orgId) \\\n",
    "left join `wmt-ww-gg-prod.ww_gg_gec_tns_sf_dl_secure.gg_tns_partnership` partnership \\\n",
    "on lower(seller.partnerId) = lower(partnership.partner_id_formula) \\\n",
    "left join \\\n",
    " `wmt-ww-gg-prod.ww_gg_gec_tns_sf_dl_secure.gg_tns_opportunity` opportunity \\\n",
    " on partnership.account = opportunity.accountid \\\n",
    " left join `wmt-edw-prod.WW_CREW_DL_RPT_VM.CNSLD_EVENT_BASED_SALES` sales \\\n",
    " on partnership.partner_id_formula = sales.prtnr_org_cd \\\n",
    "left join `wmt-ww-gg-prod.ww_gg_gec_tns_bp_dl_secure.brand-info` brand \\\n",
    "on lower(seller.orgId) = lower(brand.usSellerOrgId) \\\n",
    "where lower(org.statusInfo_status) like '%accepted%' and lower(brand.statusInfo_status) like '%accepted%' and lower(seller.orgStatus) = 'active' \\\n",
    "and partnership.account_name in ('Xtreme Inc', 'HAMEE US CORP', 'Fanatics LLC', 'Stencil1, Inc.', 'ElectroFlip LLC', 'TeeTurtle LLC', 'UltimateVitality', 'Hilde Group, Inc.', 'Yellow Dog Design Inc', 'Plow & Hearth, LLC.', 'The Spa Depot, Inc.', 'MENDOTA MERCHANTS LLC', 'TentandTable.com LLC', 'Ortho-Step Online, Inc', 'Royalty Crystal & gifts', 'Superbalife', 'Ecolife Technologies INC', 'Thousand Oaks Barrel Co.', 'Ennovative Ecommerce Inc', 'Eagle Industrial Group Inc', 'Delice Global USA', 'Walmart.com: Marketplace Archives', 'Advance Stores Company, Incorporated')\\\n",
    "group by 1,2,3,4,5,6,7,8,9,10,11,12,13,14,15,16,17,18,19)\""
   ]
  },
  {
   "cell_type": "code",
   "execution_count": null,
   "id": "20ec421c-dd2c-4c65-b5b9-d8203deee60a",
   "metadata": {},
   "outputs": [
    {
     "name": "stdout",
     "output_type": "stream",
     "text": [
      "create table `wmt-tns-analytics-prod.TnS_adhoc.MP_Sellers_New_2` as (select distinct org._id as Ro_id, seller._id as seller_id, org.name, org.statusInfo_status as org_status, org.statusInfo_comments, seller.countryOfIncorporation, seller.legalName, seller.taxClassification, seller.orgStatus as seller_status, seller.partnerId, seller.orgId, brand.name as brand_name,(case when (seller.partnerId IS NULL) then 'Non-MP Seller'       when (                 upper(seller.countryOfIncorporation) = 'US'                 or upper(seller.countryOfIncorporation) = 'UNITED STATES'                 or upper(seller.countryOfIncorporation) = 'USA'                 or (seller.taxClassification = '' and seller.countryOfIncorporation = '')                 or (seller.taxClassification is null and seller.countryOfIncorporation is null)                 or (seller.taxClassification is null or seller.countryOfIncorporation is null)                 or upper(seller.taxClassification) = 'W9'            ) then 'Domestic MP Seller'       Else 'International MP Seller' End) as population, partnership.account_name, partnership.recordtype_name, opportunity.gmv, opportunity.owner_name, opportunity.category_lvl_0, opportunity.category_lvl_1, sum(sales.gmv_amt) as net_gmv, sum(CASE WHEN sales.wfs_ind = 1 THEN sales.gmv_amt ELSE NULL END) as net_wfs_gmv from `wmt-ww-gg-prod.ww_gg_gec_tns_bp_dl_secure.org-info` org left join `wmt-ww-gg-prod.ww_gg_gec_tns_bp_dl_secure.sellers-info-us` seller on lower(org.sellerOrgId) = lower(seller.orgId) left join `wmt-ww-gg-prod.ww_gg_gec_tns_sf_dl_secure.gg_tns_partnership` partnership on lower(seller.partnerId) = lower(partnership.partner_id_formula) left join  `wmt-ww-gg-prod.ww_gg_gec_tns_sf_dl_secure.gg_tns_opportunity` opportunity  on partnership.account = opportunity.accountid  left join `wmt-edw-prod.WW_CREW_DL_RPT_VM.CNSLD_EVENT_BASED_SALES` sales  on partnership.partner_id_formula = sales.prtnr_org_cd left join `wmt-ww-gg-prod.ww_gg_gec_tns_bp_dl_secure.brand-info` brand on lower(seller.orgId) = lower(brand.usSellerOrgId) where lower(org.statusInfo_status) like '%accepted%' and lower(brand.statusInfo_status) like '%accepted%' and lower(seller.orgStatus) = 'active' and partnership.account_name in ('Xtreme Inc', 'HAMEE US CORP', 'Fanatics LLC', 'Stencil1, Inc.', 'ElectroFlip LLC', 'TeeTurtle LLC', 'UltimateVitality', 'Hilde Group, Inc.', 'Yellow Dog Design Inc', 'Plow & Hearth, LLC.', 'The Spa Depot, Inc.', 'MENDOTA MERCHANTS LLC', 'TentandTable.com LLC', 'Ortho-Step Online, Inc', 'Royalty Crystal & gifts', 'Superbalife', 'Ecolife Technologies INC', 'Thousand Oaks Barrel Co.', 'Ennovative Ecommerce Inc', 'Eagle Industrial Group Inc', 'Delice Global USA', 'Walmart.com: Marketplace Archives', 'Advance Stores Company, Incorporated')group by 1,2,3,4,5,6,7,8,9,10,11,12,13,14,15,16,17,18,19)\n",
      "create new mp seller with account table query executing\n"
     ]
    }
   ],
   "source": [
    "print(create_mp_seller_new_table_2_df)\n",
    "\n",
    "print(\"create new mp seller with account table query executing\")\n",
    "\n",
    "create_mp_seller_new_table_2_df = dataset.load(name=\"bq_connection\", query=create_mp_seller_new_table_2_df)"
   ]
  },
  {
   "cell_type": "code",
   "execution_count": null,
   "id": "9dca91d8-a810-4370-b986-c3581a69e0ef",
   "metadata": {},
   "outputs": [],
   "source": [
    "drop_mp_seller_table_new_final_df = \"drop table wmt-tns-analytics-prod.TnS_adhoc.MP_Sellers_New_final\"\n",
    "print(drop_mp_seller_table_new_final_df)\n",
    "\n",
    "print(\"drop mp seller new final table query executing\")\n",
    "\n",
    "drop_mp_seller_table_new_final_df = dataset.load(name=\"bq_connection\", query=drop_mp_seller_table_new_final_df)\n",
    "\n",
    "print(\"drop mp seller new final table query executed\")"
   ]
  },
  {
   "cell_type": "code",
   "execution_count": null,
   "id": "4c1c30aa-a6c0-4eeb-b4e4-6adbb2591bb7",
   "metadata": {},
   "outputs": [],
   "source": [
    "create_mp_seller_new_table_final_df =  \"create table `wmt-tns-analytics-prod.TnS_adhoc.MP_Sellers_New_Final` as (\\\n",
    "select Ro_id, seller_id, name, org_status, statusInfo_comments, countryOfIncorporation, legalName, taxClassification, seller_status, partnerId, orgId, brand_name, population, account_name, recordtype_name, owner_name, gmv, category_lvl_0, category_lvl_1, net_gmv, net_wfs_gmv  from `wmt-tns-analytics-prod.TnS_adhoc.MP_Sellers_New` union all \\\n",
    "select Ro_id, seller_id, name, org_status, statusInfo_comments, countryOfIncorporation, legalName, taxClassification, seller_status, partnerId, orgId, brand_name, population, account_name, recordtype_name, owner_name, gmv, category_lvl_0, category_lvl_1, net_gmv, net_wfs_gmv \\\n",
    " from `wmt-tns-analytics-prod.TnS_adhoc.MP_Sellers_New_2`) \""
   ]
  },
  {
   "cell_type": "code",
   "execution_count": null,
   "id": "4ee4d8ce-33a7-4bad-80eb-2a5fa0ce0472",
   "metadata": {},
   "outputs": [],
   "source": [
    "print(create_mp_seller_new_table_final_df)\n",
    "\n",
    "print(\"create new mp seller final with account table and partnership table query executing\")\n",
    "\n",
    "create_mp_seller_new_table_final_df = dataset.load(name=\"bq_connection\", query=create_mp_seller_new_table_final_df)\n",
    "\n",
    "print(\"created new mp seller final with account table and partnership table query executing\")"
   ]
  },
  {
   "cell_type": "code",
   "execution_count": null,
   "id": "ff5bdfad-f82e-42cd-ac22-232c8b098f22",
   "metadata": {},
   "outputs": [],
   "source": [
    "create_Counterfeit_All_df =  \"create table `wmt-tns-analytics-prod.TnS_adhoc.Counterfeit_All` as (\\\n",
    "SELECT tns_claims_items_o.offer_id AS offer_id, \\\n",
    "  tns_claims_items_o.order_placed_dt AS order_placed_dt, \\\n",
    "  tns_claims_items_o.cust_id AS cust_id, \\\n",
    "  tns_claims_items_o.order_number AS order_number, \\\n",
    "  tns_claims_items_o.total_revenue AS total_revenue, \\\n",
    "  tns_claims_items_o.total_quantity AS total_quantity, \\\n",
    "  tns_claims_items_o.placed_amount AS placed_amount, \\\n",
    "  tns_claims_items_o.placed_quantity AS placed_quantity, \\\n",
    "  tns_claims_items_o.total_cancel_amount AS total_cancel_amount, \\\n",
    "  tns_claims_items_o.cancelled_quantity AS cancelled_quantity, \\\n",
    "  tns_claims_items_o.refunded_amount AS refunded_amount, \\\n",
    "  tns_claims_items_o.return_quantity AS return_quantity, \\\n",
    "  tns_claims_items_o.id AS id, \\\n",
    "  tns_claims_items_o.claim_id AS claim_id, \\\n",
    "  tns_claims_items_o.created AS created, \\\n",
    "  tns_claims_items_o.item_id AS item_id, \\\n",
    "  tns_claims_items_o.actual_claim_type AS actual_claim_type, \\\n",
    "  tns_claims_items_o.claim_date AS claim_date, \\\n",
    "  tns_claims_items_o.delta AS delta, \\\n",
    "  tns_claims_items_o.label AS label, \\\n",
    "  t.brand_nm as brand_name, t.rpt_lvl_1_orig_nm as category, t.slr_org_cd as seller_id, t.prod_nm as item_name, t.slr_org_nm as seller_name \\\n",
    "FROM tnsanalytics.tns_claims_items_orders tns_claims_items_o \\\n",
    "left join ww_crew_dl_rpt_vm.cnsld_order_item t \\\n",
    "on tns_claims_items_o.cust_id = t.cust_id and tns_claims_items_o.order_placed_dt = t.order_plcd_dt and tns_claims_items_o.offer_id = t.offr_id) \""
   ]
  },
  {
   "cell_type": "code",
   "execution_count": null,
   "id": "6950a0a8-05e7-42f8-be5c-719c920b62d0",
   "metadata": {},
   "outputs": [],
   "source": [
    "create_Counterfeit_All_df =  \"SELECT tns_claims_items_o.offer_id AS offer_id, \\\n",
    "  tns_claims_items_o.order_placed_dt AS order_placed_dt, \\\n",
    "  tns_claims_items_o.cust_id AS cust_id, \\\n",
    "  tns_claims_items_o.order_number AS order_number, \\\n",
    "  tns_claims_items_o.total_revenue AS total_revenue, \\\n",
    "  tns_claims_items_o.total_quantity AS total_quantity, \\\n",
    "  tns_claims_items_o.placed_amount AS placed_amount, \\\n",
    "  tns_claims_items_o.placed_quantity AS placed_quantity, \\\n",
    "  tns_claims_items_o.total_cancel_amount AS total_cancel_amount, \\\n",
    "  tns_claims_items_o.cancelled_quantity AS cancelled_quantity, \\\n",
    "  tns_claims_items_o.refunded_amount AS refunded_amount, \\\n",
    "  tns_claims_items_o.return_quantity AS return_quantity, \\\n",
    "  tns_claims_items_o.id AS id, \\\n",
    "  tns_claims_items_o.claim_id AS claim_id, \\\n",
    "  tns_claims_items_o.created AS created, \\\n",
    "  tns_claims_items_o.item_id AS item_id, \\\n",
    "  tns_claims_items_o.actual_claim_type AS actual_claim_type, \\\n",
    "  tns_claims_items_o.claim_date AS claim_date, \\\n",
    "  tns_claims_items_o.delta AS delta, \\\n",
    "  tns_claims_items_o.label AS label, \\\n",
    "  t.brand_nm as brand_name, t.rpt_lvl_1_orig_nm as category, t.slr_org_cd as seller_id, t.prod_nm as item_name, t.slr_org_nm as seller_name \\\n",
    "FROM tnsanalytics.tns_claims_items_orders tns_claims_items_o \\\n",
    "left join ww_crew_dl_rpt_vm.cnsld_order_item t \\\n",
    "on tns_claims_items_o.cust_id = t.cust_id and tns_claims_items_o.order_placed_dt = t.order_plcd_dt and tns_claims_items_o.offer_id = t.offr_id \\\n",
    "where tns_claims_items_o.order_placed_dt >= cast('2023-08-01' as date)\""
   ]
  },
  {
   "cell_type": "code",
   "execution_count": null,
   "id": "024aaba2-98f6-4a50-954c-e3a5e4324a79",
   "metadata": {},
   "outputs": [],
   "source": [
    "print(create_Counterfeit_All_df)\n",
    "\n",
    "print(\"create new create_Counterfeit_All_df  query executing\")\n",
    "\n",
    "create_Counterfeit_All_df = dataset.load(name=\"gcp_dd_connection\", query=create_Counterfeit_All_df)\n",
    "\n",
    "print(\"created new create_Counterfeit_All_df table query executing\")"
   ]
  },
  {
   "cell_type": "code",
   "execution_count": null,
   "id": "2c32ad95-28d6-454d-8069-ca6cce184760",
   "metadata": {},
   "outputs": [],
   "source": [
    "import pandas as pd"
   ]
  },
  {
   "cell_type": "code",
   "execution_count": null,
   "id": "8b73f7ed-0158-41b8-b44e-2eaf021de6c1",
   "metadata": {},
   "outputs": [],
   "source": [
    "create_Counterfeit_All_df = pd.DataFrame(create_Counterfeit_All_df)"
   ]
  },
  {
   "cell_type": "code",
   "execution_count": null,
   "id": "2d3e6ea0-a06e-4449-bcbd-a7ca363b18d9",
   "metadata": {},
   "outputs": [],
   "source": [
    "create_Counterfeit_All_df.columns"
   ]
  },
  {
   "cell_type": "code",
   "execution_count": null,
   "id": "2b345dd5-4cba-4911-9422-0c791718d9f5",
   "metadata": {},
   "outputs": [],
   "source": [
    "create_Counterfeit_All_df['claim_id'].value_counts()"
   ]
  },
  {
   "cell_type": "code",
   "execution_count": null,
   "id": "50802ba0-3bc8-405b-bda3-4b60468774a3",
   "metadata": {},
   "outputs": [],
   "source": []
  }
 ],
 "metadata": {
  "kernelspec": {
   "display_name": "Default_env_43551",
   "language": "python",
   "name": "29847"
  },
  "language_info": {
   "codemirror_mode": {
    "name": "ipython",
    "version": 3
   },
   "file_extension": ".py",
   "mimetype": "text/x-python",
   "name": "python",
   "nbconvert_exporter": "python",
   "pygments_lexer": "ipython3",
   "version": "3.7.0"
  }
 },
 "nbformat": 4,
 "nbformat_minor": 5
}
