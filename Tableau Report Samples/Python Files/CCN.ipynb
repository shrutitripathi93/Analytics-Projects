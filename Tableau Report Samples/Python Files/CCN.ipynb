{
 "cells": [
  {
   "cell_type": "code",
   "execution_count": 1,
   "id": "98918507-d268-4b51-b3bf-5fbeb12475ef",
   "metadata": {},
   "outputs": [
    {
     "name": "stdout",
     "output_type": "stream",
     "text": [
      "drop table wmt-tns-analytics-prod.TnS_adhoc.LMD_DAAS\n",
      "drop daas table query executin\n",
      "drop daas table query executed\n",
      "create table `wmt-tns-analytics-prod.TnS_adhoc.LMD_DAAS` as ( select TENANT_ID, TENANT_NM, WM_WK,DLVR_AREA_NM,ST_CD,EXT_STORE_NBR, count (distinct sales_order_nbr) as Total_Orders, count (distinct case when batch_ind=1 then sales_order_nbr end) as totalBatch_Orders, count (distinct case when TEMPRATURE_CNTRL_ITEM_IND = 1 then sales_order_nbr end) as ColdChainOrders, count (distinct case when ORDER_COLD_CHN_CMPLY_IND = 1 then sales_order_nbr end) as ColdChainExceptionOrders, count (distinct case when TEMPRATURE_CNTRL_ITEM_IND = 1 and DLVR_STS = 'RETURNED' then sales_order_nbr end) as ColdChain_RTNOrders, count (distinct case when TEMPRATURE_CNTRL_ITEM_IND = 1 and DLVR_STS = 'RETURNED' and CLNT_EXCPT_RSN_CD in ('RT-004')then sales_order_nbr end) as ColdChain_RTN004, count (distinct case when TEMPRATURE_CNTRL_ITEM_IND = 1 and DLVR_STS = 'CANCELLED' then sales_order_nbr end) as ColdChain_CNCL, count (distinct case when TEMPRATURE_CNTRL_ITEM_IND = 1 and DLVR_STS = 'DELIVERED' then sales_order_nbr end) as ColdChain_DelOrders, count (distinct case when TEMPRATURE_CNTRL_ITEM_IND = 1 and batch_ind=1 then sales_order_nbr end) as ColdChainBatch_Orders, count (distinct case when TEMPRATURE_CNTRL_ITEM_IND = 1 and batch_ind=1 and DLVR_STS = 'RETURNED' then sales_order_nbr end) as ColdChainBatch_RTN, count (distinct case when TEMPRATURE_CNTRL_ITEM_IND = 1 and batch_ind=1 and DLVR_STS = 'RETURNED' and CLNT_EXCPT_RSN_CD in ('RT-004') then sales_order_nbr end) as ColdChainBatch_RTN004, count (distinct case when TEMPRATURE_CNTRL_ITEM_IND = 1 and batch_ind=1 and DLVR_STS = 'CANCELLED' then sales_order_nbr end) as ColdChainBatch_CNCL, count (distinct case when TEMPRATURE_CNTRL_ITEM_IND = 1 and batch_ind=1 and DLVR_STS = 'DELIVERED' then sales_order_nbr end) as ColdChainBatch_Del, SUM(case when BATCH_SIZE = TRIP_DLVR_SEQ_NBR then DATETIME_DIFF(coalesce(DLVR_CARRIER_TS, RTN_TS), ENRTE_TO_PCKUP_TS, hour) else 0 end) AS TOT_TRIP_LAST_MI_TM_CNT from `wmt-edw-sandbox.LM_IAD_DAAS.DPS_DLMD_ALL` where wm_wk > '202201' group by 1,2,3,4,5,6 ) \n",
      "create table query executing\n"
     ]
    }
   ],
   "source": [
    "from mlutils import dataset\n",
    "from mlutils import connector\n",
    "\n",
    "drop_daas_table_df = \"drop table wmt-tns-analytics-prod.TnS_adhoc.LMD_DAAS\"\n",
    "print(drop_daas_table_df)\n",
    "\n",
    "print(\"drop daas table query executin\")\n",
    "\n",
    "drop_daas_table_df = dataset.load(name=\"bq_connection\", query=drop_daas_table_df)\n",
    "\n",
    "print(\"drop daas table query executed\")\n",
    "\n",
    "create_daas_table_df = \"create table `wmt-tns-analytics-prod.TnS_adhoc.LMD_DAAS` as \\\n",
    "( \\\n",
    "select \\\n",
    "TENANT_ID, TENANT_NM, WM_WK,DLVR_AREA_NM,ST_CD,EXT_STORE_NBR, \\\n",
    "count (distinct sales_order_nbr) as Total_Orders, \\\n",
    "count (distinct case when batch_ind=1 then sales_order_nbr end) as totalBatch_Orders, \\\n",
    "count (distinct case when TEMPRATURE_CNTRL_ITEM_IND = 1 then sales_order_nbr end) as ColdChainOrders, \\\n",
    "count (distinct case when ORDER_COLD_CHN_CMPLY_IND = 1 then sales_order_nbr end) as ColdChainExceptionOrders, \\\n",
    "count (distinct case when TEMPRATURE_CNTRL_ITEM_IND = 1 and DLVR_STS = 'RETURNED' then sales_order_nbr end) as ColdChain_RTNOrders, \\\n",
    "count (distinct case when TEMPRATURE_CNTRL_ITEM_IND = 1 and DLVR_STS = 'RETURNED' and CLNT_EXCPT_RSN_CD in ('RT-004')then sales_order_nbr end) as ColdChain_RTN004, \\\n",
    "count (distinct case when TEMPRATURE_CNTRL_ITEM_IND = 1 and DLVR_STS = 'CANCELLED' then sales_order_nbr end) as ColdChain_CNCL, \\\n",
    "count (distinct case when TEMPRATURE_CNTRL_ITEM_IND = 1 and DLVR_STS = 'DELIVERED' then sales_order_nbr end) as ColdChain_DelOrders, \\\n",
    "count (distinct case when TEMPRATURE_CNTRL_ITEM_IND = 1 and batch_ind=1 then sales_order_nbr end) as ColdChainBatch_Orders, \\\n",
    "count (distinct case when TEMPRATURE_CNTRL_ITEM_IND = 1 and batch_ind=1 and DLVR_STS = 'RETURNED' then sales_order_nbr end) as ColdChainBatch_RTN, \\\n",
    "count (distinct case when TEMPRATURE_CNTRL_ITEM_IND = 1 and batch_ind=1 and DLVR_STS = 'RETURNED' and CLNT_EXCPT_RSN_CD in ('RT-004') then sales_order_nbr end) as ColdChainBatch_RTN004, \\\n",
    "count (distinct case when TEMPRATURE_CNTRL_ITEM_IND = 1 and batch_ind=1 and DLVR_STS = 'CANCELLED' then sales_order_nbr end) as ColdChainBatch_CNCL, \\\n",
    "count (distinct case when TEMPRATURE_CNTRL_ITEM_IND = 1 and batch_ind=1 and DLVR_STS = 'DELIVERED' then sales_order_nbr end) as ColdChainBatch_Del, \\\n",
    "SUM(case when BATCH_SIZE = TRIP_DLVR_SEQ_NBR then DATETIME_DIFF(coalesce(DLVR_CARRIER_TS, RTN_TS), ENRTE_TO_PCKUP_TS, hour) else 0 end) AS TOT_TRIP_LAST_MI_TM_CNT \\\n",
    "from `wmt-edw-sandbox.LM_IAD_DAAS.DPS_DLMD_ALL` \\\n",
    "where wm_wk > '202201' \\\n",
    "group by 1,2,3,4,5,6 \\\n",
    ") \"\n",
    "\n",
    "print(create_daas_table_df)\n",
    "\n",
    "print(\"create table query executing\")\n",
    "\n",
    "create_daas_table_df = dataset.load(name=\"bq_connection\", query=create_daas_table_df)"
   ]
  },
  {
   "cell_type": "code",
   "execution_count": null,
   "id": "d62d1b62-b98f-4fa1-8fbf-e375f509fdac",
   "metadata": {},
   "outputs": [],
   "source": [
    "from mlutils import dataset\n",
    "from mlutils import connector\n",
    "\n",
    "create_coldchain_table_df =  \"create table `wmt-tns-analytics-prod.TnS_adhoc.ColdChain_Data` as \\\n",
    "    ( \\\n",
    "select t1.cold_chain_time, t2.* from \\\n",
    "(select PO_NUM, max(SRC_MODFD_TS) as cold_chain_time from `wmt-edw-prod.WW_SUPPLY_CHAIN_DL_VM.LAST_MI_DLVR_TRK_STATUS` \\\n",
    "where src_cre_dt >= '2023-02-01'  and (CARRIER_STS_CD = 'COLD_CHAIN_COMPLIANCE_INITIATED') and PO_NUM in ( \\\n",
    "select distinct PO_NUM from  `wmt-edw-prod.WW_SUPPLY_CHAIN_DL_VM.LAST_MI_DLVR_TRK_STATUS` \\\n",
    "where src_cre_dt >= '2023-02-01' and CARRIER_STS_CD = 'COLD_CHAIN_COMPLIANCE_INITIATED' \\\n",
    "and carrier_nm = 'IN_HOME_ASSOCIATE') \\\n",
    "GROUP BY PO_NUM) t1 \\\n",
    "left join( \\\n",
    "select  \\\n",
    "  PO_NUM, \\\n",
    "  TRIP_ID, \\\n",
    "  DLVR_REF_ID, \\\n",
    "  SRC_SALES_ORDER_NUM, \\\n",
    "  CARRIER_STS_CD, \\\n",
    "  MAX (CASE WHEN CARRIER_STS_CD = 'DL' THEN SRC_CRE_TS_UTC END) as DLR_TS, \\\n",
    "  MAX (CASE WHEN CARRIER_STS_CD = 'CC' THEN SRC_CRE_TS_UTC END) as RTS_TS, \\\n",
    "  MAX (CASE WHEN CARRIER_STS_CD = 'RT' THEN SRC_CRE_TS_UTC END) as CNL_TS, \\\n",
    "   FROM `wmt-edw-prod.WW_SUPPLY_CHAIN_DL_SECURE.LAST_MI_DLVR_TRK_STATUS` LMDTS \\\n",
    "  WHERE LMDTS.CARRIER_NM = 'IN_HOME_ASSOCIATE' /* InHome driver. */ \\\n",
    "       AND LMDTS.TRIP_SVC_TYPE_NM = 'DELIVERY' /* Trip for deliveries. */ \\\n",
    "       AND LMDTS.SRC_CRE_DT > '2023-02-01' /* Random date filter. */ \\\n",
    "    GROUP BY 1,2,3,4,5 \\\n",
    ") t2 \\\n",
    "on t1.PO_NUM =t1.PO_NUM \\\n",
    "limit 10000) \"\n",
    "\n",
    "\n",
    "print(\"create table query executing\")\n",
    "\n",
    "create_coldchain_table_df = dataset.load(name=\"bq_connection\", query=create_coldchain_table_df)"
   ]
  }
 ],
 "metadata": {
  "kernelspec": {
   "display_name": "Default_env_43551",
   "language": "python",
   "name": "29847"
  },
  "language_info": {
   "codemirror_mode": {
    "name": "ipython",
    "version": 3
   },
   "file_extension": ".py",
   "mimetype": "text/x-python",
   "name": "python",
   "nbconvert_exporter": "python",
   "pygments_lexer": "ipython3",
   "version": "3.7.0"
  }
 },
 "nbformat": 4,
 "nbformat_minor": 5
}
